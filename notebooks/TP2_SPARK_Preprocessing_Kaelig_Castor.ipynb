{
 "cells": [
  {
   "cell_type": "markdown",
   "metadata": {},
   "source": [
    "# TP 2 : SPARK Preprocessing\n",
    "\n",
    "### Kaelig Castor"
   ]
  },
  {
   "cell_type": "markdown",
   "metadata": {},
   "source": [
    "- Charger un fichier csv dans un dataFrame\n",
    "- Pre-processing: cleaning, filters, feature engineering => filter, select, drop, na.fill, join, udf, distinct, count, describe, collect\n",
    "- Sauver le dataframe au format parquet"
   ]
  },
  {
   "cell_type": "code",
   "execution_count": 84,
   "metadata": {},
   "outputs": [
    {
     "name": "stdout",
     "output_type": "stream",
     "text": [
      "\n",
      "\n",
      "Hello World ! from Preprocessor\n",
      "\n",
      "\n",
      "Nombre de lignes : 108129\n",
      "Nombre de colonnes : 14\n",
      "+--------------+--------------------+--------------------+-------+--------------------+---------------------+-------+--------+----------+----------------+----------+-----------+-------------+------------+\n",
      "|    project_id|                name|                desc|   goal|            keywords|disable_communication|country|currency|  deadline|state_changed_at|created_at|launched_at|backers_count|final_status|\n",
      "+--------------+--------------------+--------------------+-------+--------------------+---------------------+-------+--------+----------+----------------+----------+-----------+-------------+------------+\n",
      "|kkst1451568084| drawing for dollars|I like drawing pi...|   20.0| drawing-for-dollars|                false|     US|     USD|1241333999|      1241334017|1240600507| 1240602723|            3|           1|\n",
      "|kkst1474482071|Sponsor Dereck Bl...|I  Dereck Blackbu...|  300.0|sponsor-dereck-bl...|                false|     US|     USD|1242429000|      1242432018|1240960224| 1240975592|            2|           0|\n",
      "| kkst183622197|       Mr. Squiggles|So I saw darkpony...|   30.0|        mr-squiggles|                false|     US|     USD|1243027560|      1243027818|1242163613| 1242164398|            0|           0|\n",
      "| kkst597742710|Help me write my ...|Do your part to h...|  500.0|help-me-write-my-...|                false|     US|     USD|1243555740|      1243556121|1240963795| 1240966730|           18|           1|\n",
      "|kkst1913131122|Support casting m...|I m nearing compl...| 2000.0|support-casting-m...|                false|     US|     USD|1243769880|      1243770317|1241177914| 1241180541|            1|           0|\n",
      "|kkst1085176748|        daily digest|I m a fledgling v...|  700.0|        daily-digest|                false|     US|     USD|1243815600|      1243816219|1241050799| 1241464468|           14|           0|\n",
      "|kkst1468954715|iGoozex - Free iP...|I am an independe...|  250.0|igoozex-free-ipho...|                false|     US|     USD|1243872000|      1243872028|1241725172| 1241736308|            2|           0|\n",
      "| kkst194050612|Drive A Faster Ca...|Drive A Faster Ca...| 1000.0|drive-a-faster-ca...|                false|     US|     USD|1244088000|      1244088022|1241460541| 1241470291|           32|           1|\n",
      "| kkst708883590|\"\"\"\"\"\"\"\"\"\"\"\"\"\"\"\"\"...|Opening Friday  J...| 5000.0|lostles-at-tinys-...|                false|     US|     USD|1244264400|      1244264422|1241415164| 1241480901|           44|           0|\n",
      "| kkst890976740|Choose Your Own A...|This project is f...| 3500.0|choose-your-own-a...|                false|     US|     USD|1244946540|      1244946632|1242268157| 1242273460|           18|           0|\n",
      "|kkst2053381363|Anatomy of a Cred...|I am an independe...|30000.0|anatomy-of-a-cred...|                false|     US|     USD|1245026160|      1245026721|1241829376| 1242056094|            7|           0|\n",
      "| kkst918550886|No-bit: An artist...|I want to create ...|  300.0|no-bit-an-artist-...|                false|     US|     USD|1245038400|      1245038428|1242523061| 1242528805|            2|           0|\n",
      "| kkst934689279|Indie Nerd Board ...|pictured here is ...| 1500.0|indie-nerd-board-...|                false|     US|     USD|1245042600|      1245042919|1242364202| 1242369560|           28|           1|\n",
      "| kkst191414809|Icons for your iP...|I make cool icons...|  500.0|awesome-icons-for...|                false|     US|     USD|1245092400|      1245092431|1241034764| 1241039475|           98|           1|\n",
      "| kkst569584443|HAPPY VALLEY: Dex...|I am a profession...|  500.0|help-me-make-my-w...|                false|     US|     USD|1245528660|      1245528920|1242072711| 1242333869|            3|           0|\n",
      "| kkst485555421|       Project Pedal|Project Pedal is ...| 1000.0|       project-pedal|                false|     US|     USD|1245556740|      1245556829|1242682134| 1242690018|           20|           1|\n",
      "|kkst1537563608|Frank Magazine Er...|We are throwing a...|  600.0|frank-magazine-er...|                false|     US|     USD|1245882360|      1245882631|1244579167| 1244742156|           12|           0|\n",
      "|kkst1261713500|  Crossword Puzzles!|I create crosswor...| 1500.0|   crossword-puzzles|                false|     US|     USD|1246354320|      1246355121|1240997554| 1241005923|          163|           1|\n",
      "| kkst910550425|Run, Blago Run! Show|A 3-day pop-up ar...| 3500.0|  run-blago-run-show|                false|     US|     USD|1246420800|      1246420854|1244299453| 1244388012|           54|           0|\n",
      "| kkst139451001|It Might Become a...|We are broke film...| 1000.0|it-might-become-a...|                false|     US|     USD|1246420800|      1246420840|1243272026| 1243616180|           23|           1|\n",
      "+--------------+--------------------+--------------------+-------+--------------------+---------------------+-------+--------+----------+----------------+----------+-----------+-------------+------------+\n",
      "only showing top 20 rows\n",
      "\n",
      "root\n",
      " |-- project_id: string (nullable = true)\n",
      " |-- name: string (nullable = true)\n",
      " |-- desc: string (nullable = true)\n",
      " |-- goal: double (nullable = true)\n",
      " |-- keywords: string (nullable = true)\n",
      " |-- disable_communication: boolean (nullable = true)\n",
      " |-- country: string (nullable = true)\n",
      " |-- currency: string (nullable = true)\n",
      " |-- deadline: integer (nullable = true)\n",
      " |-- state_changed_at: integer (nullable = true)\n",
      " |-- created_at: integer (nullable = true)\n",
      " |-- launched_at: integer (nullable = true)\n",
      " |-- backers_count: integer (nullable = true)\n",
      " |-- final_status: integer (nullable = true)\n",
      "\n",
      "root\n",
      " |-- project_id: string (nullable = true)\n",
      " |-- name: string (nullable = true)\n",
      " |-- desc: string (nullable = true)\n",
      " |-- goal: integer (nullable = true)\n",
      " |-- keywords: string (nullable = true)\n",
      " |-- disable_communication: boolean (nullable = true)\n",
      " |-- country: string (nullable = true)\n",
      " |-- currency: string (nullable = true)\n",
      " |-- deadline: integer (nullable = true)\n",
      " |-- state_changed_at: integer (nullable = true)\n",
      " |-- created_at: integer (nullable = true)\n",
      " |-- launched_at: integer (nullable = true)\n",
      " |-- backers_count: integer (nullable = true)\n",
      " |-- final_status: integer (nullable = true)\n",
      "\n"
     ]
    },
    {
     "data": {
      "text/plain": [
       "import org.apache.spark.SparkConf\n",
       "import org.apache.spark.sql.{DataFrame, SparkSession}\n",
       "import org.apache.spark.sql.types.IntegerType\n",
       "conf: org.apache.spark.SparkConf = org.apache.spark.SparkConf@57c0a744\n",
       "spark: org.apache.spark.sql.SparkSession = org.apache.spark.sql.SparkSession@7e78e505\n",
       "df: org.apache.spark.sql.DataFrame = [project_id: string, name: string ... 12 more fields]\n",
       "dfCasted: org.apache.spark.sql.DataFrame = [project_id: string, name: string ... 12 more fields]\n"
      ]
     },
     "execution_count": 84,
     "metadata": {},
     "output_type": "execute_result"
    }
   ],
   "source": [
    "import org.apache.spark.SparkConf\n",
    "import org.apache.spark.sql.{DataFrame, SparkSession}\n",
    "import org.apache.spark.sql.types.IntegerType\n",
    "// Des réglages optionnels du job spark. Les réglages par défaut fonctionnent très bien pour ce TP.\n",
    "// On vous donne un exemple de setting quand même\n",
    "val conf = new SparkConf().setAll(Map(\n",
    "      \"spark.scheduler.mode\" -> \"FIFO\",\n",
    "      \"spark.speculation\" -> \"false\",\n",
    "      \"spark.reducer.maxSizeInFlight\" -> \"48m\",\n",
    "      \"spark.serializer\" -> \"org.apache.spark.serializer.KryoSerializer\",\n",
    "      \"spark.kryoserializer.buffer.max\" -> \"1g\",\n",
    "      \"spark.shuffle.file.buffer\" -> \"32k\",\n",
    "      \"spark.default.parallelism\" -> \"12\",\n",
    "      \"spark.sql.shuffle.partitions\" -> \"12\"\n",
    "    ))\n",
    "\n",
    "// Initialisation du SparkSession qui est le point d'entrée vers Spark SQL (donne accès aux dataframes, aux RDD,\n",
    "// création de tables temporaires, etc., et donc aux mécanismes de distribution des calculs)\n",
    "val spark = SparkSession\n",
    "      .builder\n",
    "      .config(conf)\n",
    "      .appName(\"TP Spark : Preprocessor\")\n",
    "      .getOrCreate()\n",
    "\n",
    "    /*******************************************************************************\n",
    "      *\n",
    "      *       TP 2\n",
    "      *\n",
    "      *       - Charger un fichier csv dans un dataFrame\n",
    "      *       - Pre-processing: cleaning, filters, feature engineering => filter, select, drop, na.fill, join, udf, distinct, count, describe, collect\n",
    "      *       - Sauver le dataframe au format parquet\n",
    "      *\n",
    "      *       if problems with unimported modules => sbt plugins update\n",
    "      *\n",
    "      ********************************************************************************/\n",
    "\n",
    "println(\"\\n\")\n",
    "println(\"Hello World ! from Preprocessor\")\n",
    "println(\"\\n\")\n",
    "val df: DataFrame = spark\n",
    "        .read\n",
    "        .option(\"header\", true)        // utilise la première ligne du (des) fichier(s) comme\n",
    "        .option(\"inferSchema\", \"true\") // pour inférer le type de chaque colonne (Int,\n",
    "        .option(\"escape\", \"\\\"\")\n",
    "        .csv(\"/mnt/d/09_SPARK/cours-spark-telecom-master/data/train_clean.csv\")\n",
    "println(s\"Nombre de lignes : ${df.count}\")\n",
    "println(s\"Nombre de colonnes : ${df.columns.length}\")\n",
    "df.show()\n",
    "df.printSchema()\n",
    "val dfCasted: DataFrame = df\n",
    "      .withColumn(\"goal\", $\"goal\".cast(\"Int\"))\n",
    "      .withColumn(\"deadline\" , $\"deadline\".cast(\"Int\"))\n",
    "      .withColumn(\"state_changed_at\", $\"state_changed_at\".cast(\"Int\"))\n",
    "      .withColumn(\"created_at\", $\"created_at\".cast(\"Int\"))\n",
    "      .withColumn(\"launched_at\", $\"launched_at\".cast(\"Int\"))\n",
    "      .withColumn(\"backers_count\", $\"backers_count\".cast(\"Int\"))\n",
    "      .withColumn(\"final_status\", $\"final_status\".cast(\"Int\"))\n",
    "\n",
    "dfCasted.printSchema()"
   ]
  },
  {
   "cell_type": "code",
   "execution_count": 85,
   "metadata": {},
   "outputs": [
    {
     "name": "stdout",
     "output_type": "stream",
     "text": [
      "+-------+-----------------+------------------+-------------------+\n",
      "|summary|             goal|     backers_count|       final_status|\n",
      "+-------+-----------------+------------------+-------------------+\n",
      "|  count|           108129|            108129|             108129|\n",
      "|   mean|36726.22826438791|123.51666065532835| 0.3196274819891056|\n",
      "| stddev|971902.7051687702|1176.7451621583891|0.46633439282834627|\n",
      "|    min|                0|                 0|                  0|\n",
      "|    max|        100000000|            219382|                  1|\n",
      "+-------+-----------------+------------------+-------------------+\n",
      "\n"
     ]
    }
   ],
   "source": [
    "dfCasted\n",
    "      .select(\"goal\", \"backers_count\", \"final_status\")\n",
    "      .describe()\n",
    "      .show"
   ]
  },
  {
   "cell_type": "code",
   "execution_count": 86,
   "metadata": {},
   "outputs": [
    {
     "name": "stdout",
     "output_type": "stream",
     "text": [
      "+---------------------+------+\n",
      "|disable_communication| count|\n",
      "+---------------------+------+\n",
      "|                false|107806|\n",
      "|                 true|   323|\n",
      "+---------------------+------+\n",
      "\n"
     ]
    }
   ],
   "source": [
    "dfCasted.groupBy(\"disable_communication\").count.orderBy($\"count\".desc).show(100)"
   ]
  },
  {
   "cell_type": "code",
   "execution_count": 87,
   "metadata": {},
   "outputs": [
    {
     "name": "stdout",
     "output_type": "stream",
     "text": [
      "+-------+-----+\n",
      "|country|count|\n",
      "+-------+-----+\n",
      "|     US|92033|\n",
      "|     GB| 8758|\n",
      "|     CA| 3736|\n",
      "|     AU| 1880|\n",
      "|     NL|  705|\n",
      "|     NZ|  355|\n",
      "|     SE|  240|\n",
      "|     DK|  196|\n",
      "|     NO|  114|\n",
      "|     IE|  111|\n",
      "|     DE|    1|\n",
      "+-------+-----+\n",
      "\n"
     ]
    }
   ],
   "source": [
    "dfCasted.groupBy(\"country\").count.orderBy($\"count\".desc).show(100)"
   ]
  },
  {
   "cell_type": "code",
   "execution_count": 88,
   "metadata": {},
   "outputs": [
    {
     "name": "stdout",
     "output_type": "stream",
     "text": [
      "+--------+-----+\n",
      "|currency|count|\n",
      "+--------+-----+\n",
      "|     USD|92033|\n",
      "|     GBP| 8758|\n",
      "|     CAD| 3736|\n",
      "|     AUD| 1880|\n",
      "|     EUR|  817|\n",
      "|     NZD|  355|\n",
      "|     SEK|  240|\n",
      "|     DKK|  196|\n",
      "|     NOK|  114|\n",
      "+--------+-----+\n",
      "\n"
     ]
    }
   ],
   "source": [
    "dfCasted.groupBy(\"currency\").count.orderBy($\"count\".desc).show(100)"
   ]
  },
  {
   "cell_type": "code",
   "execution_count": 89,
   "metadata": {},
   "outputs": [
    {
     "name": "stdout",
     "output_type": "stream",
     "text": [
      "+----------+\n",
      "|  deadline|\n",
      "+----------+\n",
      "|1244264400|\n",
      "|1245026160|\n",
      "|1247607960|\n",
      "|1248486180|\n",
      "|1249077600|\n",
      "|1249932360|\n",
      "|1249962720|\n",
      "|1251772980|\n",
      "|1251896400|\n",
      "|1251953940|\n",
      "|1253150160|\n",
      "|1253595600|\n",
      "|1254412800|\n",
      "|1254628740|\n",
      "|1254767400|\n",
      "|1254851580|\n",
      "|1255027560|\n",
      "|1255060560|\n",
      "|1255402080|\n",
      "|1255622400|\n",
      "+----------+\n",
      "only showing top 20 rows\n",
      "\n"
     ]
    }
   ],
   "source": [
    "dfCasted.select(\"deadline\").dropDuplicates.show()"
   ]
  },
  {
   "cell_type": "code",
   "execution_count": 90,
   "metadata": {},
   "outputs": [
    {
     "name": "stdout",
     "output_type": "stream",
     "text": [
      "+----------------+-----+\n",
      "|state_changed_at|count|\n",
      "+----------------+-----+\n",
      "|      1414814340|   26|\n",
      "|      1420088342|   20|\n",
      "|      1425185942|   17|\n",
      "|      1427860741|   14|\n",
      "|      1401483613|   14|\n",
      "|      1414800010|   12|\n",
      "|      1401595142|   12|\n",
      "|      1414817940|   11|\n",
      "|      1409543941|   11|\n",
      "|      1409544011|   10|\n",
      "|      1343793542|   10|\n",
      "|      1372651141|   10|\n",
      "|      1417496340|   10|\n",
      "|      1430452741|   10|\n",
      "|      1359694743|   10|\n",
      "|      1404197943|    9|\n",
      "|      1364788742|    9|\n",
      "|      1343879941|    9|\n",
      "|      1425078013|    9|\n",
      "|      1346471944|    9|\n",
      "|      1349074740|    9|\n",
      "|      1423976340|    9|\n",
      "|      1383289142|    9|\n",
      "|      1412135943|    8|\n",
      "|      1420091941|    8|\n",
      "|      1383278341|    8|\n",
      "|      1412136011|    8|\n",
      "|      1414900740|    7|\n",
      "|      1388552340|    7|\n",
      "|      1430452742|    7|\n",
      "|      1351742342|    7|\n",
      "|      1430539144|    7|\n",
      "|      1362113941|    7|\n",
      "|      1412146741|    7|\n",
      "|      1425272344|    7|\n",
      "|      1296536343|    7|\n",
      "|      1370059144|    7|\n",
      "|      1417409942|    7|\n",
      "|      1409554741|    7|\n",
      "|      1427871541|    7|\n",
      "|      1398916740|    7|\n",
      "|      1409543940|    7|\n",
      "|      1338523141|    7|\n",
      "|      1378011540|    7|\n",
      "|      1413604740|    7|\n",
      "|      1420088413|    7|\n",
      "|      1404187140|    7|\n",
      "|      1341460740|    6|\n",
      "|      1420174743|    6|\n",
      "|      1405483140|    6|\n",
      "|      1422777542|    6|\n",
      "|      1420099141|    6|\n",
      "|      1341125940|    6|\n",
      "|      1370224834|    6|\n",
      "|      1378007942|    6|\n",
      "|      1388563140|    6|\n",
      "|      1389589140|    6|\n",
      "|      1403495940|    6|\n",
      "|      1428897544|    6|\n",
      "|      1338533940|    6|\n",
      "|      1351742343|    6|\n",
      "|      1418439611|    6|\n",
      "|      1406865540|    6|\n",
      "|      1338523140|    6|\n",
      "|      1420002014|    6|\n",
      "|      1431316742|    6|\n",
      "|      1427846420|    6|\n",
      "|      1410148741|    6|\n",
      "|      1425193141|    6|\n",
      "|      1350705540|    6|\n",
      "|      1418457543|    6|\n",
      "|      1419224343|    6|\n",
      "|      1402286340|    6|\n",
      "|      1425160813|    6|\n",
      "|      1344830342|    6|\n",
      "|      1418716740|    6|\n",
      "|      1419483615|    6|\n",
      "|      1426921141|    6|\n",
      "|      1428030017|    6|\n",
      "|      1418018340|    6|\n",
      "|      1406869141|    6|\n",
      "|      1417845540|    6|\n",
      "|      1357027142|    6|\n",
      "|      1396324741|    5|\n",
      "|      1345089540|    5|\n",
      "|      1425085212|    5|\n",
      "|      1431741621|    5|\n",
      "|      1421708416|    5|\n",
      "|      1427864343|    5|\n",
      "|      1349063942|    5|\n",
      "|      1393649942|    5|\n",
      "|      1410220810|    5|\n",
      "|      1397660793|    5|\n",
      "|      1334635143|    5|\n",
      "|      1407729540|    5|\n",
      "|      1429156743|    5|\n",
      "|      1373687940|    5|\n",
      "|      1417575610|    5|\n",
      "|      1415779140|    5|\n",
      "|      1415595540|    5|\n",
      "+----------------+-----+\n",
      "only showing top 100 rows\n",
      "\n"
     ]
    }
   ],
   "source": [
    "dfCasted.groupBy(\"state_changed_at\").count.orderBy($\"count\".desc).show(100)"
   ]
  },
  {
   "cell_type": "code",
   "execution_count": 91,
   "metadata": {},
   "outputs": [
    {
     "name": "stdout",
     "output_type": "stream",
     "text": [
      "+-------------+-----+\n",
      "|backers_count|count|\n",
      "+-------------+-----+\n",
      "|            0|12832|\n",
      "|            1| 8819|\n",
      "|            2| 5978|\n",
      "|            3| 4224|\n",
      "|            4| 3185|\n",
      "|            5| 2684|\n",
      "|            6| 2254|\n",
      "|            7| 2012|\n",
      "|            8| 1699|\n",
      "|            9| 1462|\n",
      "|           10| 1419|\n",
      "|           11| 1270|\n",
      "|           13| 1227|\n",
      "|           12| 1195|\n",
      "|           14| 1184|\n",
      "|           15| 1090|\n",
      "|           18| 1052|\n",
      "|           16| 1047|\n",
      "|           17| 1011|\n",
      "|           19|  988|\n",
      "|           20|  903|\n",
      "|           21|  879|\n",
      "|           23|  836|\n",
      "|           22|  836|\n",
      "|           24|  815|\n",
      "|           25|  790|\n",
      "|           26|  789|\n",
      "|           27|  745|\n",
      "|           28|  717|\n",
      "|           29|  681|\n",
      "|           34|  671|\n",
      "|           30|  658|\n",
      "|           32|  639|\n",
      "|           33|  614|\n",
      "|           38|  594|\n",
      "|           31|  593|\n",
      "|           35|  583|\n",
      "|           36|  575|\n",
      "|           40|  574|\n",
      "|           37|  565|\n",
      "|           39|  554|\n",
      "|           41|  535|\n",
      "|           42|  506|\n",
      "|           43|  489|\n",
      "|           48|  468|\n",
      "|           46|  463|\n",
      "|           44|  451|\n",
      "|           47|  448|\n",
      "|           45|  443|\n",
      "|           50|  437|\n",
      "|           52|  416|\n",
      "|           54|  410|\n",
      "|           53|  407|\n",
      "|           55|  393|\n",
      "|           51|  390|\n",
      "|           57|  388|\n",
      "|           56|  379|\n",
      "|           49|  375|\n",
      "|           62|  360|\n",
      "|           61|  352|\n",
      "|           58|  343|\n",
      "|           59|  343|\n",
      "|           64|  342|\n",
      "|           60|  339|\n",
      "|           63|  337|\n",
      "|           66|  328|\n",
      "|           68|  328|\n",
      "|           65|  315|\n",
      "|           72|  306|\n",
      "|           71|  305|\n",
      "|           75|  297|\n",
      "|           67|  293|\n",
      "|           76|  286|\n",
      "|           70|  284|\n",
      "|           73|  279|\n",
      "|           69|  279|\n",
      "|           77|  274|\n",
      "|           74|  270|\n",
      "|           79|  268|\n",
      "|           81|  242|\n",
      "|           78|  235|\n",
      "|           87|  231|\n",
      "|           82|  223|\n",
      "|           84|  221|\n",
      "|           86|  211|\n",
      "|           80|  210|\n",
      "|           89|  204|\n",
      "|           92|  201|\n",
      "|           88|  199|\n",
      "|           83|  195|\n",
      "|           94|  195|\n",
      "|           85|  194|\n",
      "|           93|  190|\n",
      "|           98|  186|\n",
      "|           97|  184|\n",
      "|           95|  179|\n",
      "|           91|  177|\n",
      "|           90|  177|\n",
      "|          104|  175|\n",
      "|          103|  170|\n",
      "+-------------+-----+\n",
      "only showing top 100 rows\n",
      "\n"
     ]
    }
   ],
   "source": [
    "dfCasted.groupBy(\"backers_count\").count.orderBy($\"count\".desc).show(100)"
   ]
  },
  {
   "cell_type": "code",
   "execution_count": 92,
   "metadata": {},
   "outputs": [
    {
     "name": "stdout",
     "output_type": "stream",
     "text": [
      "+-----+------------+\n",
      "| goal|final_status|\n",
      "+-----+------------+\n",
      "|   20|           1|\n",
      "|  300|           0|\n",
      "|   30|           0|\n",
      "|  500|           1|\n",
      "| 2000|           0|\n",
      "|  700|           0|\n",
      "|  250|           0|\n",
      "| 1000|           1|\n",
      "| 5000|           0|\n",
      "| 3500|           0|\n",
      "|30000|           0|\n",
      "|  300|           0|\n",
      "| 1500|           1|\n",
      "|  500|           1|\n",
      "|  500|           0|\n",
      "| 1000|           1|\n",
      "|  600|           0|\n",
      "| 1500|           1|\n",
      "| 3500|           0|\n",
      "| 1000|           1|\n",
      "|  365|           1|\n",
      "|  500|           1|\n",
      "|  400|           1|\n",
      "|  100|           1|\n",
      "|  250|           1|\n",
      "| 3000|           1|\n",
      "|  640|           0|\n",
      "| 3500|           1|\n",
      "|  300|           1|\n",
      "| 1000|           1|\n",
      "+-----+------------+\n",
      "only showing top 30 rows\n",
      "\n"
     ]
    }
   ],
   "source": [
    "dfCasted.select(\"goal\", \"final_status\").show(30)"
   ]
  },
  {
   "cell_type": "code",
   "execution_count": 93,
   "metadata": {},
   "outputs": [
    {
     "name": "stdout",
     "output_type": "stream",
     "text": [
      "+-------+--------+-----+\n",
      "|country|currency|count|\n",
      "+-------+--------+-----+\n",
      "|     US|     USD|92033|\n",
      "|     GB|     GBP| 8758|\n",
      "|     CA|     CAD| 3736|\n",
      "|     AU|     AUD| 1880|\n",
      "|     NL|     EUR|  705|\n",
      "|     NZ|     NZD|  355|\n",
      "|     SE|     SEK|  240|\n",
      "|     DK|     DKK|  196|\n",
      "|     NO|     NOK|  114|\n",
      "|     IE|     EUR|  111|\n",
      "|     DE|     EUR|    1|\n",
      "+-------+--------+-----+\n",
      "\n"
     ]
    }
   ],
   "source": [
    "dfCasted.groupBy(\"country\", \"currency\").count.orderBy($\"count\".desc).show(50)"
   ]
  },
  {
   "cell_type": "markdown",
   "metadata": {},
   "source": [
    "On enlève la colonne \"disable_communication\" qui est très largement\n",
    "majoritairement à false, il n'y a que 322 true (négligeable)"
   ]
  },
  {
   "cell_type": "code",
   "execution_count": 94,
   "metadata": {},
   "outputs": [
    {
     "data": {
      "text/plain": [
       "df2: org.apache.spark.sql.DataFrame = [project_id: string, name: string ... 11 more fields]\n"
      ]
     },
     "execution_count": 94,
     "metadata": {},
     "output_type": "execute_result"
    }
   ],
   "source": [
    "val df2: DataFrame = dfCasted.drop(\"disable_communication\")"
   ]
  },
  {
   "cell_type": "code",
   "execution_count": 95,
   "metadata": {},
   "outputs": [
    {
     "name": "stdout",
     "output_type": "stream",
     "text": [
      "+---------------------+-------------+----------------+\n",
      "|disable_communication|backers_count|state_changed_at|\n",
      "+---------------------+-------------+----------------+\n",
      "|                false|            3|      1241334017|\n",
      "|                false|            2|      1242432018|\n",
      "|                false|            0|      1243027818|\n",
      "|                false|           18|      1243556121|\n",
      "|                false|            1|      1243770317|\n",
      "|                false|           14|      1243816219|\n",
      "|                false|            2|      1243872028|\n",
      "|                false|           32|      1244088022|\n",
      "|                false|           44|      1244264422|\n",
      "|                false|           18|      1244946632|\n",
      "|                false|            7|      1245026721|\n",
      "|                false|            2|      1245038428|\n",
      "|                false|           28|      1245042919|\n",
      "|                false|           98|      1245092431|\n",
      "|                false|            3|      1245528920|\n",
      "|                false|           20|      1245556829|\n",
      "|                false|           12|      1245882631|\n",
      "|                false|          163|      1246355121|\n",
      "|                false|           54|      1246420854|\n",
      "|                false|           23|      1246420840|\n",
      "+---------------------+-------------+----------------+\n",
      "only showing top 20 rows\n",
      "\n",
      "List(project_id, name, desc, goal, keywords, disable_communication, country, currency, deadline, state_changed_at, created_at, launched_at, backers_count, final_status)"
     ]
    }
   ],
   "source": [
    "dfCasted\n",
    "    .select(\"disable_communication\", \"backers_count\", \"state_changed_at\")\n",
    "    .show\n",
    "print(dfCasted.columns.toList)"
   ]
  },
  {
   "cell_type": "code",
   "execution_count": 96,
   "metadata": {},
   "outputs": [
    {
     "name": "stdout",
     "output_type": "stream",
     "text": [
      "+-------+------------------+--------------------+\n",
      "|summary|     backers_count|    state_changed_at|\n",
      "+-------+------------------+--------------------+\n",
      "|  count|            108129|              108129|\n",
      "|   mean|123.51666065532835|1.3801529957698119E9|\n",
      "| stddev|1176.7451621583891|4.2664018444684386E7|\n",
      "|    min|                 0|          1241334017|\n",
      "|    max|            219382|          1433096940|\n",
      "+-------+------------------+--------------------+\n",
      "\n"
     ]
    }
   ],
   "source": [
    "df2\n",
    "    .select(\"backers_count\", \"state_changed_at\")\n",
    "    .describe()\n",
    "    .show"
   ]
  },
  {
   "cell_type": "markdown",
   "metadata": {},
   "source": [
    "#### Pour enlever les données du futur, on retire les colonnes \"backers_count\" et \"state_changed_at\"."
   ]
  },
  {
   "cell_type": "code",
   "execution_count": 97,
   "metadata": {},
   "outputs": [
    {
     "data": {
      "text/plain": [
       "dfNoFutur: org.apache.spark.sql.DataFrame = [project_id: string, name: string ... 9 more fields]\n"
      ]
     },
     "execution_count": 97,
     "metadata": {},
     "output_type": "execute_result"
    }
   ],
   "source": [
    "val dfNoFutur: DataFrame = df2.drop(\"backers_count\", \"state_changed_at\") "
   ]
  },
  {
   "cell_type": "code",
   "execution_count": 98,
   "metadata": {},
   "outputs": [
    {
     "name": "stdout",
     "output_type": "stream",
     "text": [
      "+-------+------------------+--------------------+\n",
      "|summary|     backers_count|    state_changed_at|\n",
      "+-------+------------------+--------------------+\n",
      "|  count|            108129|              108129|\n",
      "|   mean|123.51666065532835|1.3801529957698119E9|\n",
      "| stddev|1176.7451621583891|4.2664018444684386E7|\n",
      "|    min|                 0|          1241334017|\n",
      "|    max|            219382|          1433096940|\n",
      "+-------+------------------+--------------------+\n",
      "\n",
      "List(project_id, name, desc, goal, keywords, country, currency, deadline, state_changed_at, created_at, launched_at, backers_count, final_status)"
     ]
    }
   ],
   "source": [
    "df2\n",
    "    .select(\"backers_count\", \"state_changed_at\")\n",
    "    .describe()\n",
    "    .show\n",
    "print(df2.columns.toList)"
   ]
  },
  {
   "cell_type": "code",
   "execution_count": 103,
   "metadata": {},
   "outputs": [
    {
     "name": "stdout",
     "output_type": "stream",
     "text": [
      "List(country, currency)"
     ]
    }
   ],
   "source": [
    "print(dfNoFutur.columns.toList)"
   ]
  },
  {
   "cell_type": "markdown",
   "metadata": {},
   "source": [
    "Lorsque country = \"False\" le country à l'air d'être dans\n",
    "currency."
   ]
  },
  {
   "cell_type": "code",
   "execution_count": 100,
   "metadata": {},
   "outputs": [
    {
     "name": "stdout",
     "output_type": "stream",
     "text": [
      "+--------+-----+\n",
      "|currency|count|\n",
      "+--------+-----+\n",
      "+--------+-----+\n",
      "\n"
     ]
    }
   ],
   "source": [
    "dfNoFutur.filter($\"country\" === \"False\")\n",
    "    .groupBy(\"currency\")\n",
    "    .count\n",
    "    .orderBy($\"count\".desc)\n",
    "    .show(50)"
   ]
  },
  {
   "cell_type": "markdown",
   "metadata": {},
   "source": [
    "Creation de deux UDF.\n",
    "\n",
    "- cleanCountry : si country = \"False\" prendre la valeur de currency, sinon si country est une chaîne de caractères de taille autre que 2 remplacer par null, et sinon laisser la valeur country actuelle. On veut les résultat dans une nouvelle colonne country2."
   ]
  },
  {
   "cell_type": "code",
   "execution_count": 65,
   "metadata": {},
   "outputs": [
    {
     "data": {
      "text/plain": [
       "cleanCountry: (country: String, currency: String)String\n"
      ]
     },
     "execution_count": 65,
     "metadata": {},
     "output_type": "execute_result"
    }
   ],
   "source": [
    "def cleanCountry(country: String, currency: String): String = {\n",
    "    if (country == \"False\")\n",
    "        currency \n",
    "    else if (country.length != 2 )\n",
    "        null\n",
    "    else\n",
    "        country\n",
    "}"
   ]
  },
  {
   "cell_type": "markdown",
   "metadata": {},
   "source": [
    "- cleanCurrency : si currency.length != 3 currency prend la valeur null, sinon laisser\n",
    "la valeur currency actuelle. On veut les résultats dans une nouvelle colonne\n",
    "currency2."
   ]
  },
  {
   "cell_type": "code",
   "execution_count": 66,
   "metadata": {},
   "outputs": [
    {
     "data": {
      "text/plain": [
       "cleanCurrency: (currency: String)String\n"
      ]
     },
     "execution_count": 66,
     "metadata": {},
     "output_type": "execute_result"
    }
   ],
   "source": [
    "def cleanCurrency(currency: String): String = {\n",
    "    if (currency != null && currency.length != 3)\n",
    "        null\n",
    "    else\n",
    "        currency\n",
    "}"
   ]
  },
  {
   "cell_type": "code",
   "execution_count": 67,
   "metadata": {},
   "outputs": [
    {
     "data": {
      "text/plain": [
       "cleanCountryUdf: org.apache.spark.sql.expressions.UserDefinedFunction = UserDefinedFunction(<function2>,StringType,Some(List(StringType, StringType)))\n",
       "cleanCurrencyUdf: org.apache.spark.sql.expressions.UserDefinedFunction = UserDefinedFunction(<function1>,StringType,Some(List(StringType)))\n",
       "dfCountry_2: org.apache.spark.sql.DataFrame = [project_id: string, name: string ... 9 more fields]\n"
      ]
     },
     "execution_count": 67,
     "metadata": {},
     "output_type": "execute_result"
    }
   ],
   "source": [
    "val cleanCountryUdf = udf(cleanCountry _)\n",
    "val cleanCurrencyUdf = udf(cleanCurrency _)\n",
    "val dfCountry_2: DataFrame = dfNoFutur\n",
    "    .withColumn(\"country2\", cleanCountryUdf($\"country\", $\"currency\"))\n",
    "    .withColumn(\"currency2\", cleanCurrencyUdf($\"currency\"))\n",
    "    .drop(\"country\", \"currency\")"
   ]
  },
  {
   "cell_type": "code",
   "execution_count": 68,
   "metadata": {},
   "outputs": [
    {
     "name": "stdout",
     "output_type": "stream",
     "text": [
      "List(project_id, name, desc, goal, keywords, deadline, created_at, launched_at, final_status, country2, currency2)+-------+--------+---------+\n",
      "|summary|country2|currency2|\n",
      "+-------+--------+---------+\n",
      "|  count|  108129|   108129|\n",
      "|   mean|    null|     null|\n",
      "| stddev|    null|     null|\n",
      "|    min|      AU|      AUD|\n",
      "|    max|      US|      USD|\n",
      "+-------+--------+---------+\n",
      "\n"
     ]
    }
   ],
   "source": [
    "print(dfCountry_2.columns.toList)\n",
    "dfCountry_2\n",
    "    .select(\"country2\", \"currency2\")\n",
    "    .describe()\n",
    "    .show"
   ]
  },
  {
   "cell_type": "markdown",
   "metadata": {},
   "source": [
    "#### ou encore, en utilisant sql.functions.when:"
   ]
  },
  {
   "cell_type": "code",
   "execution_count": 69,
   "metadata": {},
   "outputs": [
    {
     "data": {
      "text/plain": [
       "import org.apache.spark.sql.functions.{when, _}\n",
       "dfCountry: org.apache.spark.sql.DataFrame = [project_id: string, name: string ... 9 more fields]\n"
      ]
     },
     "execution_count": 69,
     "metadata": {},
     "output_type": "execute_result"
    }
   ],
   "source": [
    "import org.apache.spark.sql.functions.{when, _}\n",
    "val dfCountry: DataFrame = dfNoFutur\n",
    "      .withColumn(\"country2\", when($\"country\" === \"False\", $\"currency\").otherwise($\"country\"))\n",
    "      .withColumn(\"currency2\", when($\"country\".isNotNull && length($\"currency\") =!= 3, null).otherwise($\"currency\"))\n",
    "      .drop(\"country\", \"currency\")"
   ]
  },
  {
   "cell_type": "code",
   "execution_count": 70,
   "metadata": {},
   "outputs": [
    {
     "name": "stdout",
     "output_type": "stream",
     "text": [
      "+-------+-------+--------+\n",
      "|summary|country|currency|\n",
      "+-------+-------+--------+\n",
      "|  count| 108129|  108129|\n",
      "|   mean|   null|    null|\n",
      "| stddev|   null|    null|\n",
      "|    min|     AU|     AUD|\n",
      "|    max|     US|     USD|\n",
      "+-------+-------+--------+\n",
      "\n"
     ]
    }
   ],
   "source": [
    "dfNoFutur\n",
    "    .select(\"country\", \"currency\")\n",
    "    .describe()\n",
    "    .show"
   ]
  },
  {
   "cell_type": "code",
   "execution_count": 71,
   "metadata": {},
   "outputs": [
    {
     "name": "stdout",
     "output_type": "stream",
     "text": [
      "+-------+--------+---------+\n",
      "|summary|country2|currency2|\n",
      "+-------+--------+---------+\n",
      "|  count|  108129|   108129|\n",
      "|   mean|    null|     null|\n",
      "| stddev|    null|     null|\n",
      "|    min|      AU|      AUD|\n",
      "|    max|      US|      USD|\n",
      "+-------+--------+---------+\n",
      "\n"
     ]
    }
   ],
   "source": [
    "dfCountry\n",
    "    .select(\"country2\", \"currency2\")\n",
    "    .describe()\n",
    "    .show"
   ]
  },
  {
   "cell_type": "code",
   "execution_count": 72,
   "metadata": {},
   "outputs": [
    {
     "name": "stdout",
     "output_type": "stream",
     "text": [
      "+-------+--------------------+--------------------+\n",
      "|summary|            deadline|         launched_at|\n",
      "+-------+--------------------+--------------------+\n",
      "|  count|              108129|              108129|\n",
      "|   mean|1.3802484980048554E9|1.3772990047093103E9|\n",
      "| stddev| 4.270222122091535E7| 4.294421262600255E7|\n",
      "|    min|          1241333999|          1240602723|\n",
      "|    max|          1433096938|          1432658473|\n",
      "+-------+--------------------+--------------------+\n",
      "\n"
     ]
    }
   ],
   "source": [
    "dfCountry\n",
    "      .select(\"deadline\", \"launched_at\")\n",
    "      .describe()\n",
    "      .show"
   ]
  },
  {
   "cell_type": "code",
   "execution_count": 73,
   "metadata": {},
   "outputs": [
    {
     "name": "stdout",
     "output_type": "stream",
     "text": [
      "[project_id: string, name: string ... 12 more fields]"
     ]
    }
   ],
   "source": [
    "print(df.filter($\"country\".isNotNull))"
   ]
  },
  {
   "cell_type": "code",
   "execution_count": 74,
   "metadata": {},
   "outputs": [
    {
     "data": {
      "text/plain": [
       "res59: org.apache.spark.sql.DataFrame = [project_id: string, name: string ... 11 more fields]\n"
      ]
     },
     "execution_count": 74,
     "metadata": {},
     "output_type": "execute_result"
    }
   ],
   "source": [
    "df2.withColumn(\"country\", lower($\"country\")) "
   ]
  },
  {
   "cell_type": "markdown",
   "metadata": {},
   "source": [
    "#### On ajoute une colonne days_campaign qui représente la durée de la campagne en jours (le nombre de jours entre launched_at et deadline)."
   ]
  },
  {
   "cell_type": "code",
   "execution_count": 75,
   "metadata": {},
   "outputs": [
    {
     "name": "stdout",
     "output_type": "stream",
     "text": [
      "+-------+--------------------+--------------------+------------------+\n",
      "|summary|            deadline|         launched_at|     days_campaign|\n",
      "+-------+--------------------+--------------------+------------------+\n",
      "|  count|              108129|              108129|            108129|\n",
      "|   mean|1.3802484980048554E9|1.3772990047093103E9|34.137648965587374|\n",
      "| stddev| 4.270222122091535E7| 4.294421262600255E7| 12.96770021607119|\n",
      "|    min|          1241333999|          1240602723|               1.0|\n",
      "|    max|          1433096938|          1432658473|            91.958|\n",
      "+-------+--------------------+--------------------+------------------+\n",
      "\n"
     ]
    },
    {
     "data": {
      "text/plain": [
       "dfCountry2: org.apache.spark.sql.DataFrame = [project_id: string, name: string ... 10 more fields]\n"
      ]
     },
     "execution_count": 75,
     "metadata": {},
     "output_type": "execute_result"
    }
   ],
   "source": [
    "val dfCountry2 = dfCountry\n",
    "    .withColumn(\"days_campaign\", round( ( dfCountry.col(\"deadline\")-dfCountry.col(\"launched_at\") ) /86400 *1000)/1000 )\n",
    "dfCountry2\n",
    "    .select(\"deadline\", \"launched_at\", \"days_campaign\")\n",
    "    .describe()\n",
    "    .show\n",
    "//dfCountry.apply('days_campaign')\n",
    "//    .withColumn(\"days_campaign\", dateddiff(dfCountry.col(\"deadline\"), dfCountry.col(\"launched_at\")/365))\n"
   ]
  },
  {
   "cell_type": "code",
   "execution_count": 76,
   "metadata": {},
   "outputs": [
    {
     "name": "stdout",
     "output_type": "stream",
     "text": [
      "+-------------+\n",
      "|days_campaign|\n",
      "+-------------+\n",
      "|        8.464|\n",
      "|       16.822|\n",
      "|         9.99|\n",
      "|       29.965|\n",
      "|       29.969|\n",
      "|       27.212|\n",
      "|       24.719|\n",
      "|       30.298|\n",
      "|       32.216|\n",
      "|       30.938|\n",
      "|       34.376|\n",
      "|       29.046|\n",
      "|       30.938|\n",
      "|       46.909|\n",
      "|       36.977|\n",
      "|        33.18|\n",
      "|       13.197|\n",
      "|       61.903|\n",
      "|       23.528|\n",
      "|       32.461|\n",
      "+-------------+\n",
      "only showing top 20 rows\n",
      "\n"
     ]
    }
   ],
   "source": [
    "dfCountry2\n",
    "    .select(\"days_campaign\")\n",
    "    .show"
   ]
  },
  {
   "cell_type": "markdown",
   "metadata": {},
   "source": [
    "#### On ajoute une colonne hours_prepa qui représente le nombre d’heures de préparation de la campagne entre created_at et launched_at. On arrondit le résultat à 3 chiffres après la virgule."
   ]
  },
  {
   "cell_type": "code",
   "execution_count": 77,
   "metadata": {},
   "outputs": [
    {
     "name": "stdout",
     "output_type": "stream",
     "text": [
      "+-------+--------------------+--------------------+------------------+\n",
      "|summary|            deadline|         launched_at|     days_campaign|\n",
      "+-------+--------------------+--------------------+------------------+\n",
      "|  count|              108129|              108129|            108129|\n",
      "|   mean|1.3802484980048554E9|1.3772990047093103E9|34.137648965587374|\n",
      "| stddev| 4.270222122091535E7| 4.294421262600255E7| 12.96770021607119|\n",
      "|    min|          1241333999|          1240602723|               1.0|\n",
      "|    max|          1433096938|          1432658473|            91.958|\n",
      "+-------+--------------------+--------------------+------------------+\n",
      "\n"
     ]
    },
    {
     "data": {
      "text/plain": [
       "dfCountry3: org.apache.spark.sql.DataFrame = [project_id: string, name: string ... 11 more fields]\n"
      ]
     },
     "execution_count": 77,
     "metadata": {},
     "output_type": "execute_result"
    }
   ],
   "source": [
    "val dfCountry3 = dfCountry2\n",
    "    .withColumn(\"hours_prepa\", round((dfCountry2.col(\"launched_at\")-dfCountry2.col(\"created_at\"))/3600*1000)/1000)\n",
    "dfCountry2\n",
    "    .select(\"deadline\", \"launched_at\", \"days_campaign\")\n",
    "    .describe()\n",
    "    .show"
   ]
  },
  {
   "cell_type": "code",
   "execution_count": 78,
   "metadata": {},
   "outputs": [
    {
     "name": "stdout",
     "output_type": "stream",
     "text": [
      "+----------+----------+-----------+-------------+-----------+\n",
      "|created_at|  deadline|launched_at|days_campaign|hours_prepa|\n",
      "+----------+----------+-----------+-------------+-----------+\n",
      "|1240600507|1241333999| 1240602723|        8.464|      0.616|\n",
      "|1240960224|1242429000| 1240975592|       16.822|      4.269|\n",
      "|1242163613|1243027560| 1242164398|         9.99|      0.218|\n",
      "|1240963795|1243555740| 1240966730|       29.965|      0.815|\n",
      "|1241177914|1243769880| 1241180541|       29.969|       0.73|\n",
      "|1241050799|1243815600| 1241464468|       27.212|    114.908|\n",
      "|1241725172|1243872000| 1241736308|       24.719|      3.093|\n",
      "|1241460541|1244088000| 1241470291|       30.298|      2.708|\n",
      "|1241415164|1244264400| 1241480901|       32.216|      18.26|\n",
      "|1242268157|1244946540| 1242273460|       30.938|      1.473|\n",
      "|1241829376|1245026160| 1242056094|       34.376|     62.977|\n",
      "|1242523061|1245038400| 1242528805|       29.046|      1.596|\n",
      "|1242364202|1245042600| 1242369560|       30.938|      1.488|\n",
      "|1241034764|1245092400| 1241039475|       46.909|      1.309|\n",
      "|1242072711|1245528660| 1242333869|       36.977|     72.544|\n",
      "|1242682134|1245556740| 1242690018|        33.18|       2.19|\n",
      "|1244579167|1245882360| 1244742156|       13.197|     45.275|\n",
      "|1240997554|1246354320| 1241005923|       61.903|      2.325|\n",
      "|1244299453|1246420800| 1244388012|       23.528|       24.6|\n",
      "|1243272026|1246420800| 1243616180|       32.461|     95.598|\n",
      "+----------+----------+-----------+-------------+-----------+\n",
      "only showing top 20 rows\n",
      "\n"
     ]
    }
   ],
   "source": [
    "dfCountry3\n",
    "    .select(\"created_at\",\"deadline\",\"launched_at\",\"days_campaign\",\"hours_prepa\")\n",
    "    .show"
   ]
  },
  {
   "cell_type": "markdown",
   "metadata": {},
   "source": [
    "#### On supprime les colonnes launched_at, created_at, et deadline, elles ne sont pas exploitables pour un modèle."
   ]
  },
  {
   "cell_type": "code",
   "execution_count": 79,
   "metadata": {},
   "outputs": [
    {
     "name": "stdout",
     "output_type": "stream",
     "text": [
      "List(project_id, name, desc, goal, keywords, final_status, country2, currency2, days_campaign, hours_prepa)+--------------+--------------------+--------------------+-----+--------------------+------------+--------+---------+-------------+-----------+\n",
      "|    project_id|                name|                desc| goal|            keywords|final_status|country2|currency2|days_campaign|hours_prepa|\n",
      "+--------------+--------------------+--------------------+-----+--------------------+------------+--------+---------+-------------+-----------+\n",
      "|kkst1451568084| drawing for dollars|I like drawing pi...|   20| drawing-for-dollars|           1|      US|      USD|        8.464|      0.616|\n",
      "|kkst1474482071|Sponsor Dereck Bl...|I  Dereck Blackbu...|  300|sponsor-dereck-bl...|           0|      US|      USD|       16.822|      4.269|\n",
      "| kkst183622197|       Mr. Squiggles|So I saw darkpony...|   30|        mr-squiggles|           0|      US|      USD|         9.99|      0.218|\n",
      "| kkst597742710|Help me write my ...|Do your part to h...|  500|help-me-write-my-...|           1|      US|      USD|       29.965|      0.815|\n",
      "|kkst1913131122|Support casting m...|I m nearing compl...| 2000|support-casting-m...|           0|      US|      USD|       29.969|       0.73|\n",
      "|kkst1085176748|        daily digest|I m a fledgling v...|  700|        daily-digest|           0|      US|      USD|       27.212|    114.908|\n",
      "|kkst1468954715|iGoozex - Free iP...|I am an independe...|  250|igoozex-free-ipho...|           0|      US|      USD|       24.719|      3.093|\n",
      "| kkst194050612|Drive A Faster Ca...|Drive A Faster Ca...| 1000|drive-a-faster-ca...|           1|      US|      USD|       30.298|      2.708|\n",
      "| kkst708883590|\"\"\"\"\"\"\"\"\"\"\"\"\"\"\"\"\"...|Opening Friday  J...| 5000|lostles-at-tinys-...|           0|      US|      USD|       32.216|      18.26|\n",
      "| kkst890976740|Choose Your Own A...|This project is f...| 3500|choose-your-own-a...|           0|      US|      USD|       30.938|      1.473|\n",
      "|kkst2053381363|Anatomy of a Cred...|I am an independe...|30000|anatomy-of-a-cred...|           0|      US|      USD|       34.376|     62.977|\n",
      "| kkst918550886|No-bit: An artist...|I want to create ...|  300|no-bit-an-artist-...|           0|      US|      USD|       29.046|      1.596|\n",
      "| kkst934689279|Indie Nerd Board ...|pictured here is ...| 1500|indie-nerd-board-...|           1|      US|      USD|       30.938|      1.488|\n",
      "| kkst191414809|Icons for your iP...|I make cool icons...|  500|awesome-icons-for...|           1|      US|      USD|       46.909|      1.309|\n",
      "| kkst569584443|HAPPY VALLEY: Dex...|I am a profession...|  500|help-me-make-my-w...|           0|      US|      USD|       36.977|     72.544|\n",
      "| kkst485555421|       Project Pedal|Project Pedal is ...| 1000|       project-pedal|           1|      US|      USD|        33.18|       2.19|\n",
      "|kkst1537563608|Frank Magazine Er...|We are throwing a...|  600|frank-magazine-er...|           0|      US|      USD|       13.197|     45.275|\n",
      "|kkst1261713500|  Crossword Puzzles!|I create crosswor...| 1500|   crossword-puzzles|           1|      US|      USD|       61.903|      2.325|\n",
      "| kkst910550425|Run, Blago Run! Show|A 3-day pop-up ar...| 3500|  run-blago-run-show|           0|      US|      USD|       23.528|       24.6|\n",
      "| kkst139451001|It Might Become a...|We are broke film...| 1000|it-might-become-a...|           1|      US|      USD|       32.461|     95.598|\n",
      "+--------------+--------------------+--------------------+-----+--------------------+------------+--------+---------+-------------+-----------+\n",
      "only showing top 20 rows\n",
      "\n",
      "root\n",
      " |-- project_id: string (nullable = true)\n",
      " |-- name: string (nullable = true)\n",
      " |-- desc: string (nullable = true)\n",
      " |-- goal: integer (nullable = true)\n",
      " |-- keywords: string (nullable = true)\n",
      " |-- final_status: integer (nullable = true)\n",
      " |-- country2: string (nullable = true)\n",
      " |-- currency2: string (nullable = true)\n",
      " |-- days_campaign: double (nullable = true)\n",
      " |-- hours_prepa: double (nullable = true)\n",
      "\n"
     ]
    },
    {
     "data": {
      "text/plain": [
       "dfCountry4: org.apache.spark.sql.DataFrame = [project_id: string, name: string ... 8 more fields]\n"
      ]
     },
     "execution_count": 79,
     "metadata": {},
     "output_type": "execute_result"
    }
   ],
   "source": [
    "val dfCountry4: DataFrame = dfCountry3\n",
    "      .drop(\"launched_at\", \"created_at\", \"deadline\")\n",
    "print(dfCountry4.columns.toList)\n",
    "dfCountry4.show\n",
    "dfCountry4.printSchema()"
   ]
  },
  {
   "cell_type": "markdown",
   "metadata": {},
   "source": [
    "#### On met les colonnes name, desc, et keywords en minuscules, et on ajoute une colonne text, qui contient la concaténation des Strings des colonnes name, desc, et keywords, avec un espace entre les chaînes de caractères concaténées : "
   ]
  },
  {
   "cell_type": "code",
   "execution_count": 80,
   "metadata": {
    "scrolled": true
   },
   "outputs": [
    {
     "name": "stdout",
     "output_type": "stream",
     "text": [
      "+--------------------+--------------------+--------------------+\n",
      "|                name|                desc|            keywords|\n",
      "+--------------------+--------------------+--------------------+\n",
      "| drawing for dollars|i like drawing pi...| drawing-for-dollars|\n",
      "|sponsor dereck bl...|i  dereck blackbu...|sponsor-dereck-bl...|\n",
      "|       mr. squiggles|so i saw darkpony...|        mr-squiggles|\n",
      "|help me write my ...|do your part to h...|help-me-write-my-...|\n",
      "|support casting m...|i m nearing compl...|support-casting-m...|\n",
      "|        daily digest|i m a fledgling v...|        daily-digest|\n",
      "|igoozex - free ip...|i am an independe...|igoozex-free-ipho...|\n",
      "|drive a faster ca...|drive a faster ca...|drive-a-faster-ca...|\n",
      "|\"\"\"\"\"\"\"\"\"\"\"\"\"\"\"\"\"...|opening friday  j...|lostles-at-tinys-...|\n",
      "|choose your own a...|this project is f...|choose-your-own-a...|\n",
      "|anatomy of a cred...|i am an independe...|anatomy-of-a-cred...|\n",
      "|no-bit: an artist...|i want to create ...|no-bit-an-artist-...|\n",
      "|indie nerd board ...|pictured here is ...|indie-nerd-board-...|\n",
      "|icons for your ip...|i make cool icons...|awesome-icons-for...|\n",
      "|happy valley: dex...|i am a profession...|help-me-make-my-w...|\n",
      "|       project pedal|project pedal is ...|       project-pedal|\n",
      "|frank magazine er...|we are throwing a...|frank-magazine-er...|\n",
      "|  crossword puzzles!|i create crosswor...|   crossword-puzzles|\n",
      "|run, blago run! show|a 3-day pop-up ar...|  run-blago-run-show|\n",
      "|it might become a...|we are broke film...|it-might-become-a...|\n",
      "+--------------------+--------------------+--------------------+\n",
      "only showing top 20 rows\n",
      "\n",
      "List(project_id, name, desc, goal, keywords, final_status, country2, currency2, days_campaign, hours_prepa)"
     ]
    },
    {
     "data": {
      "text/plain": [
       "import org.apache.spark.sql.functions.lower\n",
       "dfCountry5: org.apache.spark.sql.DataFrame = [project_id: string, name: string ... 8 more fields]\n"
      ]
     },
     "execution_count": 80,
     "metadata": {},
     "output_type": "execute_result"
    }
   ],
   "source": [
    "import org.apache.spark.sql.functions.lower\n",
    "val dfCountry5: DataFrame = dfCountry4\n",
    "    .withColumn(\"name\", lower($\"name\")) \n",
    "    .withColumn(\"desc\", lower($\"desc\"))\n",
    "    .withColumn(\"keywords\", lower($\"keywords\"))\n",
    "dfCountry5.select(\"name\",\"desc\",\"keywords\").show()\n",
    "print(dfCountry5.columns.toList)"
   ]
  },
  {
   "cell_type": "code",
   "execution_count": 117,
   "metadata": {
    "scrolled": true
   },
   "outputs": [
    {
     "name": "stdout",
     "output_type": "stream",
     "text": [
      "+--------------------+\n",
      "|                text|\n",
      "+--------------------+\n",
      "|drawing for dolla...|\n",
      "|sponsor dereck bl...|\n",
      "|mr. squiggles so ...|\n",
      "|help me write my ...|\n",
      "|support casting m...|\n",
      "|daily digest i m ...|\n",
      "|igoozex - free ip...|\n",
      "|drive a faster ca...|\n",
      "|\"\"\"\"\"\"\"\"\"\"\"\"\"\"\"\"\"...|\n",
      "|choose your own a...|\n",
      "|anatomy of a cred...|\n",
      "|no-bit: an artist...|\n",
      "|indie nerd board ...|\n",
      "|icons for your ip...|\n",
      "|happy valley: dex...|\n",
      "|project pedal pro...|\n",
      "|frank magazine er...|\n",
      "|crossword puzzles...|\n",
      "|run, blago run! s...|\n",
      "|it might become a...|\n",
      "+--------------------+\n",
      "only showing top 20 rows\n",
      "\n",
      "List(project_id, name, desc, goal, keywords, final_status, country2, currency2, days_campaign, hours_prepa, text)"
     ]
    },
    {
     "data": {
      "text/plain": [
       "import org.apache.spark.sql.functions.col\n",
       "import org.apache.spark.sql.functions.concat_ws\n",
       "colsToConcat: Seq[org.apache.spark.sql.Column] = List(name, desc, keywords)\n",
       "dfCountry6: org.apache.spark.sql.DataFrame = [project_id: string, name: string ... 9 more fields]\n"
      ]
     },
     "execution_count": 117,
     "metadata": {},
     "output_type": "execute_result"
    }
   ],
   "source": [
    "import org.apache.spark.sql.functions.col\n",
    "import org.apache.spark.sql.functions.concat_ws\n",
    "//val dfCountry6: DataFrame = dfCountry5\n",
    "//    .withColumn(\"text\",concat_ws(\" \", \"name\", \"desc\", \"keywords\"))\n",
    "val colsToConcat = Seq(col(\"name\"), col(\"desc\"), col(\"keywords\"))\n",
    "//dftext=dfCountry5.select(concat_ws(\" \", colsToConcat :_*)).show\n",
    "val dfCountry6: DataFrame = dfCountry5\n",
    "    .withColumn(\"text\",concat_ws(\" \", colsToConcat :_*))\n",
    "dfCountry6.select(\"text\").show()\n",
    "print(dfCountry6.columns.toList)"
   ]
  },
  {
   "cell_type": "markdown",
   "metadata": {},
   "source": [
    "#### On remplace les valeurs nulles des colonnes days_campaign, hours_prepa, et goal par la valeur -1 et par \"unknown\" pour les colonnes country2 et currency2 :"
   ]
  },
  {
   "cell_type": "code",
   "execution_count": 119,
   "metadata": {},
   "outputs": [
    {
     "name": "stdout",
     "output_type": "stream",
     "text": [
      "+-------------+-----------+-----+--------+---------+\n",
      "|days_campaign|hours_prepa| goal|country2|currency2|\n",
      "+-------------+-----------+-----+--------+---------+\n",
      "|        8.464|      0.616|   20|      US|      USD|\n",
      "|       16.822|      4.269|  300|      US|      USD|\n",
      "|         9.99|      0.218|   30|      US|      USD|\n",
      "|       29.965|      0.815|  500|      US|      USD|\n",
      "|       29.969|       0.73| 2000|      US|      USD|\n",
      "|       27.212|    114.908|  700|      US|      USD|\n",
      "|       24.719|      3.093|  250|      US|      USD|\n",
      "|       30.298|      2.708| 1000|      US|      USD|\n",
      "|       32.216|      18.26| 5000|      US|      USD|\n",
      "|       30.938|      1.473| 3500|      US|      USD|\n",
      "|       34.376|     62.977|30000|      US|      USD|\n",
      "|       29.046|      1.596|  300|      US|      USD|\n",
      "|       30.938|      1.488| 1500|      US|      USD|\n",
      "|       46.909|      1.309|  500|      US|      USD|\n",
      "|       36.977|     72.544|  500|      US|      USD|\n",
      "|        33.18|       2.19| 1000|      US|      USD|\n",
      "|       13.197|     45.275|  600|      US|      USD|\n",
      "|       61.903|      2.325| 1500|      US|      USD|\n",
      "|       23.528|       24.6| 3500|      US|      USD|\n",
      "|       32.461|     95.598| 1000|      US|      USD|\n",
      "+-------------+-----------+-----+--------+---------+\n",
      "only showing top 20 rows\n",
      "\n",
      "List(project_id, name, desc, goal, keywords, final_status, country2, currency2, days_campaign, hours_prepa, text)+-------+------------------+----------------+-----------------+--------+---------+\n",
      "|summary|     days_campaign|     hours_prepa|             goal|country2|currency2|\n",
      "+-------+------------------+----------------+-----------------+--------+---------+\n",
      "|  count|            108129|          108129|           108129|  108129|   108129|\n",
      "|   mean|34.137648965587374|906.151954045632|36726.22826438791|    null|     null|\n",
      "| stddev| 12.96770021607119|2091.90640754758|971902.7051687702|    null|     null|\n",
      "|    min|               1.0|            0.04|                0|      AU|      AUD|\n",
      "|    max|            91.958|       45691.096|        100000000|      US|      USD|\n",
      "+-------+------------------+----------------+-----------------+--------+---------+\n",
      "\n"
     ]
    },
    {
     "data": {
      "text/plain": [
       "dfCountry7: org.apache.spark.sql.DataFrame = [project_id: string, name: string ... 9 more fields]\n"
      ]
     },
     "execution_count": 119,
     "metadata": {},
     "output_type": "execute_result"
    }
   ],
   "source": [
    "val dfCountry7 = dfCountry6\n",
    "                        .na.fill(\"-1\" , Seq(\"days_campaign\"))\n",
    "                        .na.fill(\"-1\" , Seq(\"hours_prepa\"))\n",
    "                        .na.fill(\"-1\" , Seq(\"goal\"))\n",
    "\n",
    "\n",
    "dfCountry7.select(\"days_campaign\",\"hours_prepa\",\"goal\",\"country2\",\"currency2\").show()\n",
    "print(dfCountry7.columns.toList)\n",
    "dfCountry7\n",
    "    .select(\"days_campaign\", \"hours_prepa\",\"goal\",\"country2\",\"currency2\")\n",
    "    .describe()\n",
    "    .show"
   ]
  },
  {
   "cell_type": "code",
   "execution_count": null,
   "metadata": {},
   "outputs": [],
   "source": [
    "val monDataFrameFinal = dfCountry7\n",
    "monDataFrameFinal.write.parquet(\"/mnt/d/09_SPARK/monDataFrameFinal\")"
   ]
  },
  {
   "cell_type": "code",
   "execution_count": null,
   "metadata": {},
   "outputs": [],
   "source": []
  }
 ],
 "metadata": {
  "kernelspec": {
   "display_name": "spylon-kernel",
   "language": "scala",
   "name": "spylon-kernel"
  },
  "language_info": {
   "codemirror_mode": "text/x-scala",
   "file_extension": ".scala",
   "help_links": [
    {
     "text": "MetaKernel Magics",
     "url": "https://metakernel.readthedocs.io/en/latest/source/README.html"
    }
   ],
   "mimetype": "text/x-scala",
   "name": "scala",
   "pygments_lexer": "scala",
   "version": "0.4.1"
  }
 },
 "nbformat": 4,
 "nbformat_minor": 2
}
